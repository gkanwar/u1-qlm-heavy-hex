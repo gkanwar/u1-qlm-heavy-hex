{
 "cells": [
  {
   "cell_type": "markdown",
   "id": "31cd6096-1203-4a59-8af4-e27d32fc4a50",
   "metadata": {},
   "source": [
    "# Euclidean Sequential Monte Carlo\n",
    "We can use SMC to randomly thermalize a given timeslice using weights and resampling to acquire a representative Monte Carlo sample for the ground state. This doesn't provide a nice way to access finite temperature, but could be useful for studying quantum critical points or other zero-temperature properties."
   ]
  },
  {
   "cell_type": "code",
   "execution_count": null,
   "id": "631d43e7-59ee-432f-97aa-bdd321b85b7c",
   "metadata": {},
   "outputs": [],
   "source": [
    "import analysis as al\n",
    "import matplotlib.pyplot as plt\n",
    "import numpy as np\n",
    "import tqdm.auto as tqdm\n",
    "%matplotlib widget"
   ]
  },
  {
   "cell_type": "markdown",
   "id": "08f4257f-b10b-44d1-bec9-d84b9d64de5d",
   "metadata": {},
   "source": [
    "# Square lattice"
   ]
  },
  {
   "cell_type": "markdown",
   "id": "e59440dd-9877-4158-a739-685035b0c338",
   "metadata": {},
   "source": [
    "### Hamiltonian\n",
    "The magnetic operator appearing in the Hamiltonian takes the form\n",
    "$$\n",
    "-J P_{wxyz} X_w X_x X_y X_z\n",
    "$$\n",
    "which is a controlled $X$ operator dependent on the orientation of the four links. The Rokhsar-Kivelson term takes the form\n",
    "$$\n",
    "\\lambda P_{wxyz}.\n",
    "$$\n",
    "\n",
    "In the height representation, we have\n",
    "$$\n",
    "-J P_{abcd} X_{p} + \\lambda P_{abcd},\n",
    "$$\n",
    "where $a$, $b$, $c$, $d$ are the neighboring plaquettes and $p$ is the current plaquette.\n",
    "\n",
    "### Time evolution\n",
    "Exponentiating the Hamiltonian times $dt$ gives the Trotterized time evolution operator.\n",
    "$$\n",
    "\\exp(dt J P X - dt \\lambda P) = (1-P) + P e^{-dt \\lambda} [\\cosh(dt J) + \\sinh(dt J) X] = (1-P) + P N [(1-p) + p X],\n",
    "$$\n",
    "where $p = e^{-dt J} \\sinh(dt J)$, $1-p = e^{-dt J} \\cosh(dt J)$, and $N = e^{dt J - dt \\lambda}$.\n"
   ]
  },
  {
   "cell_type": "code",
   "execution_count": null,
   "id": "66a749b9-9538-4660-8e08-7b00fa5e23b9",
   "metadata": {},
   "outputs": [],
   "source": [
    "def make_eo_mask(shape):\n",
    "    inds = np.ix_(*map(np.arange, shape))\n",
    "    return sum(inds) % 2 == 0"
   ]
  },
  {
   "cell_type": "code",
   "execution_count": null,
   "id": "1a2201c2-8b8e-4ed9-b92c-af953adb5d67",
   "metadata": {},
   "outputs": [],
   "source": [
    "def init_cold_links(shape):\n",
    "    \"\"\"Initialize links to a reference state that is reasonably flippable\"\"\"\n",
    "    assert shape[0] == 3 and len(shape[1:]) == 3, 'specialized for Nd=3'\n",
    "    mask = make_eo_mask(shape[1:])\n",
    "    return np.stack([\n",
    "        2*mask - 1,\n",
    "        1 - 2*mask,\n",
    "        2*mask - 1,\n",
    "    ])"
   ]
  },
  {
   "cell_type": "code",
   "execution_count": null,
   "id": "1ddcf3d9-b011-4fce-877d-a583a05da5f8",
   "metadata": {},
   "outputs": [],
   "source": [
    "def step(x, *, dtJ, dtLam):\n",
    "    logw = 0.0\n",
    "    def update_sublattice(mu, nu, dtJ, dtLam):\n",
    "        nonlocal logw\n",
    "        a = x[nu]\n",
    "        b = np.roll(x[mu], -1, axis=nu)\n",
    "        c = -np.roll(x[nu], -1, axis=mu)\n",
    "        d = -x[mu]\n",
    "        P = (a == b) & (b == c) & (c == d)\n",
    "        logw += np.sum((mask & P) * (-dtJ+dtLam))\n",
    "        p = P*np.sinh(dtJ)*np.exp(-dtJ)\n",
    "        r = np.random.random(size=p.shape)\n",
    "        assert p.shape == x.shape[1:] and p.shape == mask.shape\n",
    "        x[nu][mask & (r < p)] *= -1\n",
    "        x[mu][np.roll(mask & (r < p), 1, axis=nu)] *= -1\n",
    "        x[nu][np.roll(mask & (r < p), 1, axis=mu)] *= -1\n",
    "        x[mu][mask & (r < p)] *= -1\n",
    "    for mu in range(x.shape[0]):\n",
    "        for nu in range(mu+1, x.shape[0]):\n",
    "            # even sites\n",
    "            mask = make_eo_mask(x.shape[1:])\n",
    "            update_sublattice(mu, nu, dtJ, dtLam)\n",
    "            # odd sites\n",
    "            mask = ~mask\n",
    "            update_sublattice(mu, nu, dtJ, dtLam)\n",
    "    return logw"
   ]
  },
  {
   "cell_type": "code",
   "execution_count": null,
   "id": "14c657d9-ea31-4ad0-84ec-af98ba5d11bb",
   "metadata": {},
   "outputs": [],
   "source": [
    "def resample(logw):\n",
    "    assert len(logw.shape) == 1\n",
    "    # average weight\n",
    "    new_logw = np.logaddexp.reduce(logw) - np.log(len(logw))\n",
    "    logw -= new_logw + np.log(len(logw))\n",
    "    assert np.isclose(np.logaddexp.reduce(logw), 0.0), np.logaddexp.reduce(logw)\n",
    "    inds = np.random.choice(np.arange(len(logw)), size=len(logw), p=np.exp(logw))\n",
    "    return inds, new_logw"
   ]
  },
  {
   "cell_type": "code",
   "execution_count": null,
   "id": "b96f7e61-f88e-401f-9dc8-677d6b0965b3",
   "metadata": {},
   "outputs": [],
   "source": [
    "def compute_ess(logw):\n",
    "    log_ess = 2*np.logaddexp.reduce(logw) - np.logaddexp.reduce(2*logw)\n",
    "    return np.exp(log_ess) / len(logw)"
   ]
  },
  {
   "cell_type": "code",
   "execution_count": null,
   "id": "dd9264d1-6fdb-4991-8459-6b81dcb0d5e4",
   "metadata": {},
   "outputs": [],
   "source": [
    "# TODO: Update to flux basis\n",
    "def measure_Mx(x):\n",
    "    mask = make_eo_mask(x.shape)\n",
    "    return 2*np.mean(x * mask), 2*np.mean(x * (1-mask))"
   ]
  },
  {
   "cell_type": "code",
   "execution_count": null,
   "id": "60da2987-61d0-402f-b309-05fa32944864",
   "metadata": {},
   "outputs": [],
   "source": [
    "def measure_F(x):\n",
    "    F = []\n",
    "    for mu in range(x.shape[0]):\n",
    "        for nu in range(mu+1, x.shape[0]):\n",
    "            a = x[nu]\n",
    "            b = np.roll(x[mu], -1, axis=nu)\n",
    "            c = -np.roll(x[nu], -1, axis=mu)\n",
    "            d = -x[mu]\n",
    "            F.append(np.mean((a == b) & (b == c) & (c == d)))\n",
    "    return np.stack(F)"
   ]
  },
  {
   "cell_type": "code",
   "execution_count": null,
   "id": "1434114a-4599-424a-a0af-ce05d7e3cf8e",
   "metadata": {},
   "outputs": [],
   "source": [
    "def run_walkers(x, *, dt, J, lam, n_iter, resample_thresh, n_meas):\n",
    "    logw = np.zeros(x.shape[0])\n",
    "    ts = dt*np.arange(0, n_iter, n_meas)\n",
    "    hist = dict(logw=[], ess=[], Mlogw=[], F=[], cfgs=[], ts=ts)\n",
    "    for i in tqdm.tqdm(range(n_iter)):\n",
    "        for j,xj in enumerate(x):\n",
    "            logw[j] += step(xj, dtJ=dt*J, dtLam=dt*lam)\n",
    "        ess = compute_ess(logw)\n",
    "        if ess < resample_thresh:\n",
    "            inds, new_logw = resample(logw)\n",
    "            x = x[inds]\n",
    "            logw[:] = new_logw\n",
    "            ess = 1.0\n",
    "        hist['ess'].append(ess)\n",
    "        if (i+1) % n_meas == 0:\n",
    "            # np.stack([measure_Fx(xj) for xj in x])\n",
    "            hist['cfgs'].append(np.copy(x))\n",
    "            # hist['Mx'].append(np.stack([measure_Mx(xj) for xj in x]))\n",
    "            hist['F'].append(np.stack([measure_F(xj) for xj in x]))\n",
    "            hist['Mlogw'].append(np.copy(logw))\n",
    "        hist['logw'].append(np.copy(logw))\n",
    "    return hist"
   ]
  },
  {
   "cell_type": "code",
   "execution_count": null,
   "id": "3498c5d9-f172-4492-8a62-5da41d3717d7",
   "metadata": {},
   "outputs": [],
   "source": [
    "x = np.stack([init_cold_links((3, 4, 4, 4)) for _ in range(128)])\n",
    "hist = run_walkers(x, dt=0.01, J=1.0, lam=0.0, n_iter=1000, resample_thresh=0.7, n_meas=10)"
   ]
  },
  {
   "cell_type": "code",
   "execution_count": null,
   "id": "494d80ec-bc2b-4b46-8364-29203704ba8d",
   "metadata": {},
   "outputs": [],
   "source": [
    "fig, axes = plt.subplots(1,2, figsize=(6,3))\n",
    "# logw = al.bootstrap(np.stack(hist['logw'], axis=1), Nboot=1000, f=al.rmean)\n",
    "# al.add_errorbar(logw, ax=ax)\n",
    "for logwi in np.stack(hist['logw'], axis=1):\n",
    "    axes[0].plot(logwi, linewidth=0.5, color='0.5')\n",
    "def weighted_meas(logw, M):\n",
    "    logw = logw - np.max(logw, axis=0)\n",
    "    return al.rmean(np.exp(logw)*np.abs(M)) / al.rmean(np.exp(logw))\n",
    "F = np.stack(al.bootstrap(\n",
    "    np.stack(hist['Mlogw'], axis=1)[...,None], np.stack(hist['F'], axis=1),\n",
    "    Nboot=100, f=weighted_meas))\n",
    "print(f'{F.shape=}')\n",
    "# print(f'{Mx.shape=}')\n",
    "# al.add_errorbar(Mx[:,:,0], xs=np.arange(0, 10000, 10), ax=axes[1], label='Mx even')\n",
    "# al.add_errorbar(Mx[:,:,1], xs=np.arange(0, 10000, 10), ax=axes[1], label='Mx odd')\n",
    "al.add_errorbar(F[:,:,0], xs=hist['ts'], ax=axes[1], label='F (0,1)')\n",
    "al.add_errorbar(F[:,:,1], xs=hist['ts'], ax=axes[1], label='F (0,2)')\n",
    "al.add_errorbar(F[:,:,2], xs=hist['ts'], ax=axes[1], label='F (1,2)')\n",
    "axes[1].legend()\n",
    "plt.show()"
   ]
  },
  {
   "cell_type": "code",
   "execution_count": null,
   "id": "b525ed41-b1b8-46a1-9c94-7bad5b3fd230",
   "metadata": {},
   "outputs": [],
   "source": [
    "fig, axes = plt.subplots(2,4)\n",
    "mask = make_eo_mask(hist['cfgs'][0][0].shape)\n",
    "cmap = plt.get_cmap('Grays')\n",
    "cmap.set_bad(alpha=0.0)\n",
    "for ax_col,cfg in zip(np.transpose(axes),np.stack(hist['cfgs'])[-4:,0]):\n",
    "    cfg_even = np.where(mask, cfg, float('nan'))\n",
    "    cfg_odd = np.where(~mask, cfg, float('nan'))\n",
    "    ax_col[0].imshow(cfg_even, interpolation='nearest', cmap=cmap)\n",
    "    ax_col[1].imshow(cfg_odd, interpolation='nearest', cmap=cmap)\n",
    "    ax.set_aspect(1.0)\n",
    "plt.show()"
   ]
  },
  {
   "cell_type": "code",
   "execution_count": null,
   "id": "a4c9a150-009c-4a09-94fe-cf0f5856e266",
   "metadata": {},
   "outputs": [],
   "source": []
  }
 ],
 "metadata": {
  "kernelspec": {
   "display_name": "Python 3 (ipykernel)",
   "language": "python",
   "name": "python3"
  },
  "language_info": {
   "codemirror_mode": {
    "name": "ipython",
    "version": 3
   },
   "file_extension": ".py",
   "mimetype": "text/x-python",
   "name": "python",
   "nbconvert_exporter": "python",
   "pygments_lexer": "ipython3",
   "version": "3.13.3"
  }
 },
 "nbformat": 4,
 "nbformat_minor": 5
}
