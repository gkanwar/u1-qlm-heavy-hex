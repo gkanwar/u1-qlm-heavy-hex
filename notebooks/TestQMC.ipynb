{
 "cells": [
  {
   "cell_type": "markdown",
   "id": "31cd6096-1203-4a59-8af4-e27d32fc4a50",
   "metadata": {},
   "source": [
    "# Euclidean Time Evolution QMC\n",
    "We can use a strategy similar to GFMC to randomly thermalize a given timeslice using weights and resampling to acquire a representative Monte Carlo sample for the ground state. This doesn't provide a nice way to access finite temperature, but could be useful for studying quantum critical points or other zero-temperature properties."
   ]
  },
  {
   "cell_type": "code",
   "execution_count": null,
   "id": "631d43e7-59ee-432f-97aa-bdd321b85b7c",
   "metadata": {},
   "outputs": [],
   "source": [
    "import analysis as al\n",
    "import matplotlib.pyplot as plt\n",
    "import numpy as np\n",
    "import tqdm.auto as tqdm\n",
    "%matplotlib widget"
   ]
  },
  {
   "cell_type": "markdown",
   "id": "08f4257f-b10b-44d1-bec9-d84b9d64de5d",
   "metadata": {},
   "source": [
    "# Square lattice"
   ]
  },
  {
   "cell_type": "markdown",
   "id": "e59440dd-9877-4158-a739-685035b0c338",
   "metadata": {},
   "source": [
    "### Hamiltonian\n",
    "The only operator appearing in the Hamiltonian takes the form\n",
    "$$\n",
    "-J P_{wxyz} X_w X_x X_y X_z\n",
    "$$\n",
    "which is a controlled $X$ operator dependent on the orientation of the four links.\n",
    "In the height representation, we have\n",
    "$$\n",
    "-J P_{abcd} X_{p}\n",
    "$$\n",
    "where $a$, $b$, $c$, $d$ are the neighboring plaquettes and $p$ is the current plaquette.\n",
    "\n",
    "### Time evolution\n",
    "Exponentiating this operator times $dt$ gives the Trotterized time evolution operator.\n",
    "$$\n",
    "\\exp(dt J P X) = (1-P) + P [\\cosh(dt J) + \\sinh(dt J) X] = (1-P) + P N [(1-p) + p X],\n",
    "$$\n",
    "where $p = e^{-dt J} \\sinh(dt J)$, $1-p = e^{-dt J} \\cosh(dt J)$, and $N = e^{dt J}$.\n"
   ]
  },
  {
   "cell_type": "code",
   "execution_count": null,
   "id": "66a749b9-9538-4660-8e08-7b00fa5e23b9",
   "metadata": {},
   "outputs": [],
   "source": [
    "def make_eo_mask(shape):\n",
    "    i, j = np.ix_(np.arange(shape[0]), np.arange(shape[1]))\n",
    "    return (i + j) % 2 == 0"
   ]
  },
  {
   "cell_type": "code",
   "execution_count": null,
   "id": "60da2987-61d0-402f-b309-05fa32944864",
   "metadata": {},
   "outputs": [],
   "source": [
    "def measure_Fx(x):\n",
    "    a = np.roll(x, -1, axis=0)\n",
    "    b = np.roll(x, 1, axis=0)\n",
    "    c = np.roll(x, -1, axis=1)\n",
    "    d = np.roll(x, 1, axis=1)\n",
    "    return (a == b) & (b == c) & (c == d)"
   ]
  },
  {
   "cell_type": "code",
   "execution_count": null,
   "id": "1ddcf3d9-b011-4fce-877d-a583a05da5f8",
   "metadata": {},
   "outputs": [],
   "source": [
    "def step(x, *, dtJ1, dtJ2):\n",
    "    logw = 0.0\n",
    "    def update_sublattice(dtJ):\n",
    "        nonlocal logw\n",
    "        a = np.roll(x, -1, axis=0)\n",
    "        b = np.roll(x, 1, axis=0)\n",
    "        c = np.roll(x, -1, axis=1)\n",
    "        d = np.roll(x, 1, axis=1)\n",
    "        P = (a == b) & (b == c) & (c == d)\n",
    "        logw += np.sum(np.where(mask & P, -dtJ, 0.0))\n",
    "        p = np.where(P, np.sinh(dtJ)*np.exp(-dtJ), 0.0)\n",
    "        r = np.random.random(size=x.shape)\n",
    "        x[mask & (r < p)] *= -1\n",
    "    # even sites\n",
    "    mask = make_eo_mask(x.shape)\n",
    "    update_sublattice(dtJ1)\n",
    "    # odd sites\n",
    "    mask = ~mask\n",
    "    update_sublattice(dtJ2)\n",
    "    return logw"
   ]
  },
  {
   "cell_type": "code",
   "execution_count": null,
   "id": "14c657d9-ea31-4ad0-84ec-af98ba5d11bb",
   "metadata": {},
   "outputs": [],
   "source": [
    "def resample(logw):\n",
    "    assert len(logw.shape) == 1\n",
    "    # average weight\n",
    "    new_logw = np.logaddexp.reduce(logw) - np.log(len(logw))\n",
    "    logw -= new_logw + np.log(len(logw))\n",
    "    assert np.isclose(np.logaddexp.reduce(logw), 0.0), np.logaddexp.reduce(logw)\n",
    "    inds = np.random.choice(np.arange(len(logw)), size=len(logw), p=np.exp(logw))\n",
    "    return inds, new_logw"
   ]
  },
  {
   "cell_type": "code",
   "execution_count": null,
   "id": "dd9264d1-6fdb-4991-8459-6b81dcb0d5e4",
   "metadata": {},
   "outputs": [],
   "source": [
    "def measure_Mx(x):\n",
    "    mask = make_eo_mask(x.shape)\n",
    "    return 2*np.mean(x * mask), 2*np.mean(x * (1-mask))"
   ]
  },
  {
   "cell_type": "code",
   "execution_count": null,
   "id": "1434114a-4599-424a-a0af-ce05d7e3cf8e",
   "metadata": {},
   "outputs": [],
   "source": [
    "def run_walkers(x, *, dtJ1, dtJ2, n_iter, n_resample, n_meas):\n",
    "    logw = np.zeros(x.shape[0])\n",
    "    hist = dict(logw=[], Mlogw=[], Mx=[], cfgs=[])\n",
    "    for i in tqdm.tqdm(range(n_iter)):\n",
    "        for j,xj in enumerate(x):\n",
    "            logw[j] += step(xj, dtJ1=dtJ1, dtJ2=dtJ2)\n",
    "        if (i+1) % n_resample == 0:\n",
    "            inds, new_logw = resample(logw)\n",
    "            # print(f'Variety: {len(np.unique(inds))/len(inds)}')\n",
    "            x = x[inds]\n",
    "            logw[:] = new_logw\n",
    "        if (i+1) % n_meas == 0:\n",
    "            # np.stack([measure_Fx(xj) for xj in x])\n",
    "            hist['cfgs'].append(np.copy(x))\n",
    "            hist['Mx'].append(np.stack([measure_Mx(xj) for xj in x]))\n",
    "            hist['Mlogw'].append(np.copy(logw))\n",
    "        hist['logw'].append(np.copy(logw))\n",
    "    return hist"
   ]
  },
  {
   "cell_type": "code",
   "execution_count": null,
   "id": "3498c5d9-f172-4492-8a62-5da41d3717d7",
   "metadata": {},
   "outputs": [],
   "source": [
    "x = -np.ones((128, 64, 64))\n",
    "hist = run_walkers(x, dtJ1=0.01, dtJ2=0.05, n_iter=10000, n_resample=10, n_meas=10)"
   ]
  },
  {
   "cell_type": "code",
   "execution_count": null,
   "id": "494d80ec-bc2b-4b46-8364-29203704ba8d",
   "metadata": {},
   "outputs": [],
   "source": [
    "fig, axes = plt.subplots(1,2, figsize=(6,3))\n",
    "# logw = al.bootstrap(np.stack(hist['logw'], axis=1), Nboot=1000, f=al.rmean)\n",
    "# al.add_errorbar(logw, ax=ax)\n",
    "for logwi in np.stack(hist['logw'], axis=1):\n",
    "    axes[0].plot(logwi, linewidth=0.5, color='0.5')\n",
    "def weighted_meas(logw, M):\n",
    "    logw = logw - np.max(logw, axis=0)\n",
    "    return al.rmean(np.exp(logw)*np.abs(M)) / al.rmean(np.exp(logw))\n",
    "Mx = np.stack(al.bootstrap(\n",
    "    np.stack(hist['Mlogw'], axis=1)[...,None], np.stack(hist['Mx'], axis=1),\n",
    "    Nboot=100, f=weighted_meas))\n",
    "print(f'{Mx.shape=}')\n",
    "al.add_errorbar(Mx[:,:,0], xs=np.arange(0, 10000, 10), ax=axes[1], label='Mx even')\n",
    "al.add_errorbar(Mx[:,:,1], xs=np.arange(0, 10000, 10), ax=axes[1], label='Mx odd')\n",
    "axes[1].legend()\n",
    "plt.show()"
   ]
  },
  {
   "cell_type": "code",
   "execution_count": null,
   "id": "b525ed41-b1b8-46a1-9c94-7bad5b3fd230",
   "metadata": {},
   "outputs": [],
   "source": [
    "fig, axes = plt.subplots(2,4)\n",
    "mask = make_eo_mask(hist['cfgs'][0][0].shape)\n",
    "cmap = plt.get_cmap('Grays')\n",
    "cmap.set_bad(alpha=0.0)\n",
    "for ax_col,cfg in zip(np.transpose(axes),np.stack(hist['cfgs'])[-4:,0]):\n",
    "    cfg_even = np.where(mask, cfg, float('nan'))\n",
    "    cfg_odd = np.where(~mask, cfg, float('nan'))\n",
    "    ax_col[0].imshow(cfg_even, interpolation='nearest', cmap=cmap)\n",
    "    ax_col[1].imshow(cfg_odd, interpolation='nearest', cmap=cmap)\n",
    "    ax.set_aspect(1.0)\n",
    "plt.show()"
   ]
  },
  {
   "cell_type": "code",
   "execution_count": null,
   "id": "a4c9a150-009c-4a09-94fe-cf0f5856e266",
   "metadata": {},
   "outputs": [],
   "source": []
  }
 ],
 "metadata": {
  "kernelspec": {
   "display_name": "Python 3 (ipykernel)",
   "language": "python",
   "name": "python3"
  },
  "language_info": {
   "codemirror_mode": {
    "name": "ipython",
    "version": 3
   },
   "file_extension": ".py",
   "mimetype": "text/x-python",
   "name": "python",
   "nbconvert_exporter": "python",
   "pygments_lexer": "ipython3",
   "version": "3.13.3"
  }
 },
 "nbformat": 4,
 "nbformat_minor": 5
}
