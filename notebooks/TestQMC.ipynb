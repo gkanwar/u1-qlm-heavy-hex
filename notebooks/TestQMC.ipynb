{
 "cells": [
  {
   "cell_type": "markdown",
   "id": "31cd6096-1203-4a59-8af4-e27d32fc4a50",
   "metadata": {},
   "source": [
    "# Euclidean Time Evolution QMC\n",
    "We can use a strategy similar to GFMC to randomly thermalize a given timeslice using weights and resampling to acquire a representative Monte Carlo sample for the ground state. This doesn't provide a nice way to access finite temperature, but could be useful for studying quantum critical points or other zero-temperature properties."
   ]
  },
  {
   "cell_type": "code",
   "execution_count": null,
   "id": "631d43e7-59ee-432f-97aa-bdd321b85b7c",
   "metadata": {},
   "outputs": [],
   "source": [
    "import analysis as al\n",
    "import matplotlib.pyplot as plt\n",
    "import numpy as np\n",
    "import tqdm.auto as tqdm\n",
    "%matplotlib widget"
   ]
  },
  {
   "cell_type": "markdown",
   "id": "08f4257f-b10b-44d1-bec9-d84b9d64de5d",
   "metadata": {},
   "source": [
    "# Square lattice"
   ]
  },
  {
   "cell_type": "markdown",
   "id": "e59440dd-9877-4158-a739-685035b0c338",
   "metadata": {},
   "source": [
    "### Hamiltonian\n",
    "The only operator appearing in the Hamiltonian takes the form\n",
    "$$\n",
    "-J P_{wxyz} X_w X_x X_y X_z\n",
    "$$\n",
    "which is a controlled $X$ operator dependent on the orientation of the four links.\n",
    "In the height representation, we have\n",
    "$$\n",
    "-J P_{abcd} X_{p}\n",
    "$$\n",
    "where $a$, $b$, $c$, $d$ are the neighboring plaquettes and $p$ is the current plaquette.\n",
    "\n",
    "### Time evolution\n",
    "Exponentiating this operator times $dt$ gives the Trotterized time evolution operator.\n",
    "$$\n",
    "\\exp(dt J P X) = (1-P) + P [\\cosh(dt J) + \\sinh(dt J) X] = (1-P) + P N [(1-p) + p X],\n",
    "$$\n",
    "where $p = e^{-dt J} \\sinh(dt J)$, $1-p = e^{-dt J} \\cosh(dt J)$, and $N = e^{dt J}$.\n"
   ]
  },
  {
   "cell_type": "code",
   "execution_count": null,
   "id": "66a749b9-9538-4660-8e08-7b00fa5e23b9",
   "metadata": {},
   "outputs": [],
   "source": [
    "def make_eo_mask(shape):\n",
    "    i, j = np.ix_(np.arange(shape[0]), np.arange(shape[1]))\n",
    "    return (i + j) % 2 == 0"
   ]
  },
  {
   "cell_type": "code",
   "execution_count": null,
   "id": "60da2987-61d0-402f-b309-05fa32944864",
   "metadata": {},
   "outputs": [],
   "source": [
    "def measure_Fx(x):\n",
    "    a = np.roll(x, -1, axis=0)\n",
    "    b = np.roll(x, 1, axis=0)\n",
    "    c = np.roll(x, -1, axis=1)\n",
    "    d = np.roll(x, 1, axis=1)\n",
    "    return (a == b) & (b == c) & (c == d)"
   ]
  },
  {
   "cell_type": "code",
   "execution_count": null,
   "id": "1ddcf3d9-b011-4fce-877d-a583a05da5f8",
   "metadata": {},
   "outputs": [],
   "source": [
    "def step(x, *, dtJ):\n",
    "    logw = 0.0\n",
    "    def update_sublattice():\n",
    "        nonlocal logw\n",
    "        a = np.roll(x, -1, axis=0)\n",
    "        b = np.roll(x, 1, axis=0)\n",
    "        c = np.roll(x, -1, axis=1)\n",
    "        d = np.roll(x, 1, axis=1)\n",
    "        P = (a == b) & (b == c) & (c == d)\n",
    "        logw += np.sum(np.where(mask & P, -dtJ, 0.0))\n",
    "        p = np.where(P, np.sinh(dtJ)*np.exp(-dtJ), 0.0)\n",
    "        r = np.random.random(size=x.shape)\n",
    "        x[mask & (r < p)] *= -1\n",
    "    # even sites\n",
    "    mask = make_eo_mask(x.shape)\n",
    "    update_sublattice()\n",
    "    # odd sites\n",
    "    mask = ~mask\n",
    "    update_sublattice()\n",
    "    return logw"
   ]
  },
  {
   "cell_type": "code",
   "execution_count": null,
   "id": "14c657d9-ea31-4ad0-84ec-af98ba5d11bb",
   "metadata": {},
   "outputs": [],
   "source": [
    "def resample(logw):\n",
    "    assert len(logw.shape) == 1\n",
    "    # average weight\n",
    "    new_logw = np.logaddexp.reduce(logw) - np.log(len(logw))\n",
    "    logw -= new_logw + np.log(len(logw))\n",
    "    assert np.isclose(np.logaddexp.reduce(logw), 0.0), np.logaddexp.reduce(logw)\n",
    "    inds = np.random.choice(np.arange(len(logw)), size=len(logw), p=np.exp(logw))\n",
    "    return inds, new_logw"
   ]
  },
  {
   "cell_type": "code",
   "execution_count": null,
   "id": "1434114a-4599-424a-a0af-ce05d7e3cf8e",
   "metadata": {},
   "outputs": [],
   "source": [
    "def run_walkers(x, *, dtJ, n_iter, n_resample, n_meas):\n",
    "    logw = np.zeros(x.shape[0])\n",
    "    hist = dict(logw=[], Fx=[])\n",
    "    for i in tqdm.tqdm(range(n_iter)):\n",
    "        for j,xj in enumerate(x):\n",
    "            logw[j] += step(xj, dtJ=dtJ)\n",
    "        if (i+1) % n_resample == 0:\n",
    "            inds, new_logw = resample(logw)\n",
    "            # print(f'Variety: {len(np.unique(inds))/len(inds)}')\n",
    "            x = x[inds]\n",
    "            logw[:] = new_logw\n",
    "        if (i+1) % n_meas == 0:\n",
    "            np.stack([measure_Fx(xj) for xj in x])\n",
    "            \n",
    "        hist['logw'].append(np.copy(logw))\n",
    "    return hist"
   ]
  },
  {
   "cell_type": "code",
   "execution_count": null,
   "id": "3498c5d9-f172-4492-8a62-5da41d3717d7",
   "metadata": {},
   "outputs": [],
   "source": [
    "x = np.ones((128, 16, 16))\n",
    "hist = run_walkers(x, dtJ=0.01, n_iter=1000, n_resample=10)"
   ]
  },
  {
   "cell_type": "code",
   "execution_count": null,
   "id": "494d80ec-bc2b-4b46-8364-29203704ba8d",
   "metadata": {},
   "outputs": [],
   "source": [
    "fig, ax = plt.subplots(1,1)\n",
    "# logw = al.bootstrap(np.stack(hist['logw'], axis=1), Nboot=1000, f=al.rmean)\n",
    "# al.add_errorbar(logw, ax=ax)\n",
    "for logwi in np.stack(hist['logw'], axis=1):\n",
    "    ax.plot(logwi, linewidth=0.5, color='0.5')\n",
    "plt.show()"
   ]
  },
  {
   "cell_type": "code",
   "execution_count": null,
   "id": "b525ed41-b1b8-46a1-9c94-7bad5b3fd230",
   "metadata": {},
   "outputs": [],
   "source": []
  }
 ],
 "metadata": {
  "kernelspec": {
   "display_name": "Python 3 (ipykernel)",
   "language": "python",
   "name": "python3"
  },
  "language_info": {
   "codemirror_mode": {
    "name": "ipython",
    "version": 3
   },
   "file_extension": ".py",
   "mimetype": "text/x-python",
   "name": "python",
   "nbconvert_exporter": "python",
   "pygments_lexer": "ipython3",
   "version": "3.10.13"
  }
 },
 "nbformat": 4,
 "nbformat_minor": 5
}
